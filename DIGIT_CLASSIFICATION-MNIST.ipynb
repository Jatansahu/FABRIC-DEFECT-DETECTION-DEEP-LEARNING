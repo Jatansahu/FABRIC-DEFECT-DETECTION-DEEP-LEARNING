{
  "nbformat": 4,
  "nbformat_minor": 0,
  "metadata": {
    "colab": {
      "provenance": []
    },
    "kernelspec": {
      "name": "python3",
      "display_name": "Python 3"
    },
    "language_info": {
      "name": "python"
    }
  },
  "cells": [
    {
      "cell_type": "markdown",
      "source": [
        "DATE - 01/06/2023"
      ],
      "metadata": {
        "id": "OANS0v5lWce0"
      }
    },
    {
      "cell_type": "code",
      "execution_count": 25,
      "metadata": {
        "id": "87X4Gpx4WTbI"
      },
      "outputs": [],
      "source": [
        "import tensorflow as tf\n",
        "from tensorflow import keras\n",
        "from tensorflow.keras.layers import Flatten,Dense\n",
        "\n",
        "from tensorflow.keras import Sequential"
      ]
    },
    {
      "cell_type": "code",
      "source": [
        "import numpy as np\n",
        "import matplotlib.pyplot as plt"
      ],
      "metadata": {
        "id": "kuUQ4w9fXzzx"
      },
      "execution_count": 26,
      "outputs": []
    },
    {
      "cell_type": "code",
      "source": [
        "#MNIST DATASET WHICH IS PRESTORED IN KERAS LIBRARY\n",
        "(X_train , y_train) , (X_test , y_test) = keras.datasets.mnist.load_data()"
      ],
      "metadata": {
        "id": "PpiK0M0RX4K5"
      },
      "execution_count": 27,
      "outputs": []
    },
    {
      "cell_type": "code",
      "source": [
        "print(X_train.shape)\n",
        "print(y_train.shape)\n",
        "print(X_test.shape)\n",
        "print(y_test.shape)"
      ],
      "metadata": {
        "colab": {
          "base_uri": "https://localhost:8080/"
        },
        "id": "0xA05Z4xYcSG",
        "outputId": "3e2edda8-3c76-4489-d291-1c5503466abb"
      },
      "execution_count": 28,
      "outputs": [
        {
          "output_type": "stream",
          "name": "stdout",
          "text": [
            "(60000, 28, 28)\n",
            "(60000,)\n",
            "(10000, 28, 28)\n",
            "(10000,)\n"
          ]
        }
      ]
    },
    {
      "cell_type": "markdown",
      "source": [
        "Training set have 60000 snapshot of handwritten digits which have image size of 28*28"
      ],
      "metadata": {
        "id": "oXpxxNVCaS9Z"
      }
    },
    {
      "cell_type": "code",
      "source": [
        "#1th digit snapshot for training\n",
        "plt.imshow(X_train[0])\n",
        "#digit is \n",
        "y_train[0]"
      ],
      "metadata": {
        "colab": {
          "base_uri": "https://localhost:8080/",
          "height": 448
        },
        "id": "vnifk-ADZjOa",
        "outputId": "85d0090b-c191-469c-8c96-8033c9db8951"
      },
      "execution_count": 29,
      "outputs": [
        {
          "output_type": "execute_result",
          "data": {
            "text/plain": [
              "5"
            ]
          },
          "metadata": {},
          "execution_count": 29
        },
        {
          "output_type": "display_data",
          "data": {
            "text/plain": [
              "<Figure size 640x480 with 1 Axes>"
            ],
            "image/png": "[encoded data removed]"
          },
          "metadata": {}
        }
      ]
    },
    {
      "cell_type": "code",
      "source": [
        "#1th digit snapshot for test\n",
        "plt.imshow(X_test[0])\n",
        "#digit is \n",
        "y_test[0]"
      ],
      "metadata": {
        "colab": {
          "base_uri": "https://localhost:8080/",
          "height": 448
        },
        "id": "Rh2Zm2OSbCkF",
        "outputId": "3f566e1d-8969-4dc0-fb26-686538d3e248"
      },
      "execution_count": 30,
      "outputs": [
        {
          "output_type": "execute_result",
          "data": {
            "text/plain": [
              "7"
            ]
          },
          "metadata": {},
          "execution_count": 30
        },
        {
          "output_type": "display_data",
          "data": {
            "text/plain": [
              "<Figure size 640x480 with 1 Axes>"
            ],
            "image/png": "[encoded data removed]"
          },
          "metadata": {}
        }
      ]
    },
    {
      "cell_type": "code",
      "source": [
        "#Normalizing data \n",
        "X_train = X_train / 255\n",
        "X_test = X_test/255"
      ],
      "metadata": {
        "id": "T7f07p2tbSr6"
      },
      "execution_count": 31,
      "outputs": []
    },
    {
      "cell_type": "code",
      "source": [
        "#As we know our data is 2D(28*28) array so convertning it into 1D array we have to flatten\n",
        "oneD = 28*28\n",
        "X_train_flattened = X_train.reshape(len(X_train) , oneD)\n",
        "X_test_flattened = X_test.reshape(len(X_test)  , oneD)\n",
        "print(X_train_flattened.shape)\n",
        "print(X_test_flattened.shape)"
      ],
      "metadata": {
        "colab": {
          "base_uri": "https://localhost:8080/"
        },
        "id": "RlMTVfhIdb99",
        "outputId": "0e4d2e86-b71f-41ad-c877-d42b58de00df"
      },
      "execution_count": 32,
      "outputs": [
        {
          "output_type": "stream",
          "name": "stdout",
          "text": [
            "(60000, 784)\n",
            "(10000, 784)\n"
          ]
        }
      ]
    },
    {
      "cell_type": "code",
      "source": [
        "class_mod = Sequential()"
      ],
      "metadata": {
        "id": "4MJhE_tEkK6w"
      },
      "execution_count": 33,
      "outputs": []
    },
    {
      "cell_type": "code",
      "source": [
        "class_mod.add(Flatten(input_shape = (28,28)))\n",
        "# class_mod.add(Dense(128,activation='relu'))  #nodesize = 128 \n",
        "class_mod.add(Dense(10,activation = 'softmax')) #10 is 0 to 9 number classification"
      ],
      "metadata": {
        "id": "8oEHmdeBecOk"
      },
      "execution_count": 34,
      "outputs": []
    },
    {
      "cell_type": "code",
      "source": [
        "class_mod.summary()"
      ],
      "metadata": {
        "colab": {
          "base_uri": "https://localhost:8080/"
        },
        "id": "uY35020IjsM-",
        "outputId": "51af3dd7-347b-4b38-a781-4cce33825f1b"
      },
      "execution_count": 35,
      "outputs": [
        {
          "output_type": "stream",
          "name": "stdout",
          "text": [
            "Model: \"sequential_1\"\n",
            "_________________________________________________________________\n",
            " Layer (type)                Output Shape              Param #   \n",
            "=================================================================\n",
            " flatten_1 (Flatten)         (None, 784)               0         \n",
            "                                                                 \n",
            " dense_2 (Dense)             (None, 10)                7850      \n",
            "                                                                 \n",
            "=================================================================\n",
            "Total params: 7,850\n",
            "Trainable params: 7,850\n",
            "Non-trainable params: 0\n",
            "_________________________________________________________________\n"
          ]
        }
      ]
    },
    {
      "cell_type": "code",
      "source": [
        "from sklearn.metrics import f1_score"
      ],
      "metadata": {
        "id": "xs7UbMuUnVaM"
      },
      "execution_count": 36,
      "outputs": []
    },
    {
      "cell_type": "code",
      "source": [
        "class_mod.compile(optimizer='Adam' , loss = 'sparse_categorical_crossentropy', metrics=['accuracy'])"
      ],
      "metadata": {
        "id": "e0W9e0hrjzci"
      },
      "execution_count": 37,
      "outputs": []
    },
    {
      "cell_type": "code",
      "source": [
        "result = class_mod.fit(X_train,y_train,batch_size=64,epochs=5,verbose=1, validation_split=0.2)"
      ],
      "metadata": {
        "colab": {
          "base_uri": "https://localhost:8080/"
        },
        "id": "ZhlR14oqmfje",
        "outputId": "830614c1-082f-4755-d64c-49c020b55165"
      },
      "execution_count": 38,
      "outputs": [
        {
          "output_type": "stream",
          "name": "stdout",
          "text": [
            "Epoch 1/5\n",
            "750/750 [==============================] - 2s 3ms/step - loss: 0.6004 - accuracy: 0.8474 - val_loss: 0.3529 - val_accuracy: 0.9039\n",
            "Epoch 2/5\n",
            "750/750 [==============================] - 2s 2ms/step - loss: 0.3425 - accuracy: 0.9058 - val_loss: 0.3043 - val_accuracy: 0.9165\n",
            "Epoch 3/5\n",
            "750/750 [==============================] - 2s 2ms/step - loss: 0.3091 - accuracy: 0.9142 - val_loss: 0.2876 - val_accuracy: 0.9212\n",
            "Epoch 4/5\n",
            "750/750 [==============================] - 2s 3ms/step - loss: 0.2929 - accuracy: 0.9185 - val_loss: 0.2782 - val_accuracy: 0.9222\n",
            "Epoch 5/5\n",
            "750/750 [==============================] - 2s 3ms/step - loss: 0.2830 - accuracy: 0.9207 - val_loss: 0.2722 - val_accuracy: 0.9252\n"
          ]
        }
      ]
    },
    {
      "cell_type": "code",
      "source": [
        "class_mod.evaluate(X_test , y_test)"
      ],
      "metadata": {
        "colab": {
          "base_uri": "https://localhost:8080/"
        },
        "id": "ibKbdRNyQ1Df",
        "outputId": "99d0646a-7006-4523-f4fe-223cfc55d162"
      },
      "execution_count": 39,
      "outputs": [
        {
          "output_type": "stream",
          "name": "stdout",
          "text": [
            "313/313 [==============================] - 1s 2ms/step - loss: 0.2766 - accuracy: 0.9229\n"
          ]
        },
        {
          "output_type": "execute_result",
          "data": {
            "text/plain": [
              "[0.2765629291534424, 0.9229000210762024]"
            ]
          },
          "metadata": {},
          "execution_count": 39
        }
      ]
    },
    {
      "cell_type": "code",
      "source": [
        "y_pred = class_mod.predict(X_test)\n",
        "y_pred[0]"
      ],
      "metadata": {
        "colab": {
          "base_uri": "https://localhost:8080/"
        },
        "id": "yP3bGwqLRBtS",
        "outputId": "72e0d8ac-00ce-4d08-920f-ff1b5e080a80"
      },
      "execution_count": 40,
      "outputs": [
        {
          "output_type": "stream",
          "name": "stdout",
          "text": [
            "313/313 [==============================] - 0s 1ms/step\n"
          ]
        },
        {
          "output_type": "execute_result",
          "data": {
            "text/plain": [
              "array([1.6137312e-05, 1.1739214e-09, 3.9191556e-05, 3.4030671e-03,\n",
              "       1.7296560e-06, 3.0373367e-05, 1.2622288e-08, 9.9560720e-01,\n",
              "       3.4734941e-05, 8.6746935e-04], dtype=float32)"
            ]
          },
          "metadata": {},
          "execution_count": 40
        }
      ]
    },
    {
      "cell_type": "markdown",
      "source": [
        "10 scores"
      ],
      "metadata": {
        "id": "t54252ZxRTds"
      }
    },
    {
      "cell_type": "code",
      "source": [
        "y_test"
      ],
      "metadata": {
        "colab": {
          "base_uri": "https://localhost:8080/"
        },
        "id": "rlm4M7WkW7bN",
        "outputId": "51f74ac9-28e9-478c-c334-bb6ad312188e"
      },
      "execution_count": 41,
      "outputs": [
        {
          "output_type": "execute_result",
          "data": {
            "text/plain": [
              "array([7, 2, 1, ..., 4, 5, 6], dtype=uint8)"
            ]
          },
          "metadata": {},
          "execution_count": 41
        }
      ]
    },
    {
      "cell_type": "code",
      "source": [
        "np.argmax(y_pred[0])"
      ],
      "metadata": {
        "colab": {
          "base_uri": "https://localhost:8080/"
        },
        "id": "Qa4rXA3mRQpR",
        "outputId": "255e3c80-c5e1-4088-fac8-984b0ddc19ac"
      },
      "execution_count": 42,
      "outputs": [
        {
          "output_type": "execute_result",
          "data": {
            "text/plain": [
              "7"
            ]
          },
          "metadata": {},
          "execution_count": 42
        }
      ]
    },
    {
      "cell_type": "code",
      "source": [
        "y_predicted_labels = [np.argmax(i) for i in y_pred]\n",
        "# y_predicted_labels[:5]"
      ],
      "metadata": {
        "id": "xU3xvQFBZe7Q"
      },
      "execution_count": 43,
      "outputs": []
    },
    {
      "cell_type": "code",
      "source": [
        "con_mat = tf.math.confusion_matrix(labels=y_test , predictions = y_predicted_labels)"
      ],
      "metadata": {
        "id": "oFVNye5vRavp"
      },
      "execution_count": 44,
      "outputs": []
    },
    {
      "cell_type": "code",
      "source": [
        "import seaborn as sn\n",
        "sn.heatmap(con_mat, annot=True , fmt='d')\n",
        "plt.xlabel('predicted')\n",
        "plt.ylabel('actual')"
      ],
      "metadata": {
        "colab": {
          "base_uri": "https://localhost:8080/",
          "height": 467
        },
        "id": "dnww847RkBM_",
        "outputId": "fc25797a-ce1b-421e-8f9a-bd44e3339928"
      },
      "execution_count": 45,
      "outputs": [
        {
          "output_type": "execute_result",
          "data": {
            "text/plain": [
              "Text(50.722222222222214, 0.5, 'actual')"
            ]
          },
          "metadata": {},
          "execution_count": 45
        },
        {
          "output_type": "display_data",
          "data": {
            "text/plain": [
              "<Figure size 640x480 with 2 Axes>"
            ],
            "image/png": "[encoded data removed]"
          },
          "metadata": {}
        }
      ]
    },
    {
      "cell_type": "code",
      "source": [
        "from sklearn.metrics import confusion_matrix, f1_score\n",
        "\n",
        "\n",
        "# Compute the F1 score for each class\n",
        "f1_scores = f1_score(y_test, y_predicted_labels, labels=None, average=None, sample_weight=None, zero_division='warn')\n",
        "\n",
        "# Compute the macro-average F1 score\n",
        "macro_average_f1 = f1_score(y_test, y_predicted_labels, labels=None, average='macro', sample_weight=None, zero_division='warn')\n",
        "\n",
        "print(\"F1 Score for each class:\", f1_scores)\n",
        "print(\"Macro-average F1 Score:\", macro_average_f1)\n",
        "\n"
      ],
      "metadata": {
        "colab": {
          "base_uri": "https://localhost:8080/"
        },
        "id": "3FXYIPvKkhhn",
        "outputId": "48a48c95-e2dc-4488-fb49-900d9902a41d"
      },
      "execution_count": 46,
      "outputs": [
        {
          "output_type": "stream",
          "name": "stdout",
          "text": [
            "F1 Score for each class: [0.96576032 0.97190518 0.90792079 0.90744467 0.92860759 0.88241881\n",
            " 0.94401644 0.9270936  0.88139059 0.90167158]\n",
            "Macro-average F1 Score: 0.9218229577987638\n"
          ]
        }
      ]
    },
    {
      "cell_type": "code",
      "source": [],
      "metadata": {
        "id": "2Fi18ZEknHqJ"
      },
      "execution_count": null,
      "outputs": []
    },
    {
      "cell_type": "markdown",
      "source": [
        "#TRAINING OTHER MODEL WHICH INCLUDES HIDDEN LAYER ISING Rectified activation function  "
      ],
      "metadata": {
        "id": "F1el3yo8nI-l"
      }
    },
    {
      "cell_type": "code",
      "source": [
        "model_2 = Sequential()"
      ],
      "metadata": {
        "id": "T2yRKv2pnYmu"
      },
      "execution_count": 64,
      "outputs": []
    },
    {
      "cell_type": "code",
      "source": [
        "model_2.add(Flatten(input_shape = (28,28)))\n",
        "model_2.add(Dense(128,activation='relu'))  #nodesize = 128 \n",
        "model_2.add(Dense(10,activation = 'softmax')) #10 is 0 to 9 number classification"
      ],
      "metadata": {
        "id": "EjTIfwkOnfDP"
      },
      "execution_count": 65,
      "outputs": []
    },
    {
      "cell_type": "code",
      "source": [
        "model_2.compile(optimizer='Adam' , loss = 'sparse_categorical_crossentropy', metrics=['accuracy'])"
      ],
      "metadata": {
        "id": "oQfz1CakoZtq"
      },
      "execution_count": 66,
      "outputs": []
    },
    {
      "cell_type": "code",
      "source": [
        "result = model_2.fit(X_train,y_train,batch_size=64,epochs=10,verbose=1, validation_split=0.2)  #Epoches= 10 changes"
      ],
      "metadata": {
        "colab": {
          "base_uri": "https://localhost:8080/"
        },
        "id": "THR8-Xl9pB64",
        "outputId": "34b02416-8043-461e-9de2-1c60c5de9d39"
      },
      "execution_count": 67,
      "outputs": [
        {
          "output_type": "stream",
          "name": "stdout",
          "text": [
            "Epoch 1/10\n",
            "750/750 [==============================] - 4s 5ms/step - loss: 0.3311 - accuracy: 0.9071 - val_loss: 0.1792 - val_accuracy: 0.9495\n",
            "Epoch 2/10\n",
            "750/750 [==============================] - 3s 4ms/step - loss: 0.1571 - accuracy: 0.9540 - val_loss: 0.1342 - val_accuracy: 0.9613\n",
            "Epoch 3/10\n",
            "750/750 [==============================] - 4s 6ms/step - loss: 0.1089 - accuracy: 0.9679 - val_loss: 0.1179 - val_accuracy: 0.9632\n",
            "Epoch 4/10\n",
            "750/750 [==============================] - 4s 5ms/step - loss: 0.0822 - accuracy: 0.9761 - val_loss: 0.1061 - val_accuracy: 0.9687\n",
            "Epoch 5/10\n",
            "750/750 [==============================] - 4s 5ms/step - loss: 0.0654 - accuracy: 0.9808 - val_loss: 0.0949 - val_accuracy: 0.9716\n",
            "Epoch 6/10\n",
            "750/750 [==============================] - 7s 9ms/step - loss: 0.0523 - accuracy: 0.9843 - val_loss: 0.0944 - val_accuracy: 0.9706\n",
            "Epoch 7/10\n",
            "750/750 [==============================] - 4s 6ms/step - loss: 0.0425 - accuracy: 0.9870 - val_loss: 0.0930 - val_accuracy: 0.9719\n",
            "Epoch 8/10\n",
            "750/750 [==============================] - 3s 4ms/step - loss: 0.0329 - accuracy: 0.9910 - val_loss: 0.0883 - val_accuracy: 0.9728\n",
            "Epoch 9/10\n",
            "750/750 [==============================] - 4s 6ms/step - loss: 0.0281 - accuracy: 0.9920 - val_loss: 0.0875 - val_accuracy: 0.9753\n",
            "Epoch 10/10\n",
            "750/750 [==============================] - 4s 5ms/step - loss: 0.0223 - accuracy: 0.9938 - val_loss: 0.0864 - val_accuracy: 0.9739\n"
          ]
        }
      ]
    },
    {
      "cell_type": "code",
      "source": [
        "model_2.evaluate(X_test , y_test)"
      ],
      "metadata": {
        "colab": {
          "base_uri": "https://localhost:8080/"
        },
        "id": "PuyJau6Qnxr1",
        "outputId": "cc919afc-0c68-41b8-fa3a-66a09d5b0242"
      },
      "execution_count": 69,
      "outputs": [
        {
          "output_type": "stream",
          "name": "stdout",
          "text": [
            "313/313 [==============================] - 1s 2ms/step - loss: 0.0777 - accuracy: 0.9762\n"
          ]
        },
        {
          "output_type": "execute_result",
          "data": {
            "text/plain": [
              "[0.07767082750797272, 0.9761999845504761]"
            ]
          },
          "metadata": {},
          "execution_count": 69
        }
      ]
    },
    {
      "cell_type": "code",
      "source": [
        "y_pred = model_2.predict(X_test)\n",
        "y_pred[0]"
      ],
      "metadata": {
        "colab": {
          "base_uri": "https://localhost:8080/"
        },
        "id": "w6ubez35n7Mb",
        "outputId": "73f09dc0-2ea1-40b1-8b28-9f477a29b8e2"
      },
      "execution_count": 70,
      "outputs": [
        {
          "output_type": "stream",
          "name": "stdout",
          "text": [
            "313/313 [==============================] - 1s 2ms/step\n"
          ]
        },
        {
          "output_type": "execute_result",
          "data": {
            "text/plain": [
              "array([3.6709746e-08, 6.9977873e-10, 1.1885392e-06, 2.4816552e-05,\n",
              "       1.6568568e-13, 4.3081205e-10, 4.0587286e-15, 9.9997181e-01,\n",
              "       4.5971171e-07, 1.7094018e-06], dtype=float32)"
            ]
          },
          "metadata": {},
          "execution_count": 70
        }
      ]
    },
    {
      "cell_type": "code",
      "source": [
        "y_predicted_labels = [np.argmax(i) for i in y_pred]\n",
        "y_predicted_labels[0]"
      ],
      "metadata": {
        "colab": {
          "base_uri": "https://localhost:8080/"
        },
        "id": "hu7Pl7shoIOV",
        "outputId": "df7976dd-db33-4d38-b6c0-dde8f85e3e4d"
      },
      "execution_count": 71,
      "outputs": [
        {
          "output_type": "execute_result",
          "data": {
            "text/plain": [
              "7"
            ]
          },
          "metadata": {},
          "execution_count": 71
        }
      ]
    },
    {
      "cell_type": "code",
      "source": [
        "f1_scores = f1_score(y_test, y_predicted_labels, labels=None, average=None, sample_weight=None, zero_division='warn')\n",
        "\n",
        "# Compute the macro-average F1 score\n",
        "macro_average_f1 = f1_score(y_test, y_predicted_labels, labels=None, average='macro', sample_weight=None, zero_division='warn')\n",
        "\n",
        "print(\"F1 Score for each class:\", f1_scores)\n",
        "print(\"Macro-average F1 Score:\", macro_average_f1)"
      ],
      "metadata": {
        "colab": {
          "base_uri": "https://localhost:8080/"
        },
        "id": "z3V6YqSBn1d1",
        "outputId": "e48e4c19-84a7-46cb-e480-5c1a30c74929"
      },
      "execution_count": 72,
      "outputs": [
        {
          "output_type": "stream",
          "name": "stdout",
          "text": [
            "F1 Score for each class: [0.98274112 0.98855634 0.97128954 0.97273178 0.97898514 0.97511312\n",
            " 0.97763911 0.97289448 0.97012658 0.97054418]\n",
            "Macro-average F1 Score: 0.9760621384021271\n"
          ]
        }
      ]
    },
    {
      "cell_type": "markdown",
      "source": [
        "Getting better result"
      ],
      "metadata": {
        "id": "lw4tIdk8pqkJ"
      }
    },
    {
      "cell_type": "code",
      "source": [],
      "metadata": {
        "id": "8IWLYcrDpoQe"
      },
      "execution_count": 72,
      "outputs": []
    }
  ]
}