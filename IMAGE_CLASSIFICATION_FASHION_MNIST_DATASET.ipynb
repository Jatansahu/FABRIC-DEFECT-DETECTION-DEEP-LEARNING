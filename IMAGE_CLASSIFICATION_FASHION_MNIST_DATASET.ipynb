{
  "nbformat": 4,
  "nbformat_minor": 0,
  "metadata": {
    "colab": {
      "provenance": []
    },
    "kernelspec": {
      "name": "python3",
      "display_name": "Python 3"
    },
    "language_info": {
      "name": "python"
    }
  },
  "cells": [
    {
      "cell_type": "markdown",
      "source": [
        "DATE - 01/06/2023"
      ],
      "metadata": {
        "id": "OANS0v5lWce0"
      }
    },
    {
      "cell_type": "code",
      "execution_count": 102,
      "metadata": {
        "id": "87X4Gpx4WTbI"
      },
      "outputs": [],
      "source": [
        "import tensorflow as tf\n",
        "from tensorflow import keras\n",
        "from tensorflow.keras.layers import Flatten,Dense\n",
        "\n",
        "from tensorflow.keras import Sequential"
      ]
    },
    {
      "cell_type": "code",
      "source": [
        "pip install keras-tuner"
      ],
      "metadata": {
        "colab": {
          "base_uri": "https://localhost:8080/"
        },
        "id": "tGOfCpS8WSnd",
        "outputId": "02b33981-fc7e-4b82-c643-b643280cd5d5"
      },
      "execution_count": 103,
      "outputs": [
        {
          "output_type": "stream",
          "name": "stdout",
          "text": [
            "Looking in indexes: https://pypi.org/simple, https://us-python.pkg.dev/colab-wheels/public/simple/\n",
            "Requirement already satisfied: keras-tuner in /usr/local/lib/python3.10/dist-packages (1.3.5)\n",
            "Requirement already satisfied: packaging in /usr/local/lib/python3.10/dist-packages (from keras-tuner) (23.1)\n",
            "Requirement already satisfied: requests in /usr/local/lib/python3.10/dist-packages (from keras-tuner) (2.27.1)\n",
            "Requirement already satisfied: kt-legacy in /usr/local/lib/python3.10/dist-packages (from keras-tuner) (1.0.5)\n",
            "Requirement already satisfied: urllib3<1.27,>=1.21.1 in /usr/local/lib/python3.10/dist-packages (from requests->keras-tuner) (1.26.15)\n",
            "Requirement already satisfied: certifi>=2017.4.17 in /usr/local/lib/python3.10/dist-packages (from requests->keras-tuner) (2022.12.7)\n",
            "Requirement already satisfied: charset-normalizer~=2.0.0 in /usr/local/lib/python3.10/dist-packages (from requests->keras-tuner) (2.0.12)\n",
            "Requirement already satisfied: idna<4,>=2.5 in /usr/local/lib/python3.10/dist-packages (from requests->keras-tuner) (3.4)\n"
          ]
        }
      ]
    },
    {
      "cell_type": "code",
      "source": [
        "from keras_tuner import RandomSearch"
      ],
      "metadata": {
        "id": "Hqpj_ANQWI8Y"
      },
      "execution_count": 104,
      "outputs": []
    },
    {
      "cell_type": "code",
      "source": [
        "import numpy as np\n",
        "import matplotlib.pyplot as plt"
      ],
      "metadata": {
        "id": "kuUQ4w9fXzzx"
      },
      "execution_count": 105,
      "outputs": []
    },
    {
      "cell_type": "code",
      "source": [
        "#FASHION_MNIST DATASET WHICH IS PRESTORED IN KERAS LIBRARY\n",
        "# (X_train , y_train) , (X_test , y_test) = keras.datasets.mnist.load_data()\n",
        "(X_train , y_train) , (X_test , y_test) = keras.datasets.fashion_mnist.load_data()"
      ],
      "metadata": {
        "id": "PpiK0M0RX4K5"
      },
      "execution_count": 106,
      "outputs": []
    },
    {
      "cell_type": "code",
      "source": [
        "print(X_train.shape)\n",
        "print(y_train.shape)\n",
        "print(X_test.shape)\n",
        "print(y_test.shape)"
      ],
      "metadata": {
        "colab": {
          "base_uri": "https://localhost:8080/"
        },
        "id": "0xA05Z4xYcSG",
        "outputId": "3b44b5b5-c6c6-403f-cdb1-f1e636d4792f"
      },
      "execution_count": 107,
      "outputs": [
        {
          "output_type": "stream",
          "name": "stdout",
          "text": [
            "(60000, 28, 28)\n",
            "(60000,)\n",
            "(10000, 28, 28)\n",
            "(10000,)\n"
          ]
        }
      ]
    },
    {
      "cell_type": "markdown",
      "source": [
        "Training set have 60000 snapshot of CLOTHS which have image size of 28*28 and Test data (X_test) has 10000 images. Each image is 2D and its pixel ranges from 0 to 255. \n",
        "\n",
        "---\n",
        "\n"
      ],
      "metadata": {
        "id": "oXpxxNVCaS9Z"
      }
    },
    {
      "cell_type": "markdown",
      "source": [
        "we have images of clothing such as Tshirt, trousers, pullovers, dresses, coats, sandals,s and have a total of 10 labels."
      ],
      "metadata": {
        "id": "PozF16THoR-K"
      }
    },
    {
      "cell_type": "code",
      "source": [
        "#1th snapshot for training\n",
        "plt.imshow(X_train[0])\n",
        "#digit is \n",
        "y_train[0]"
      ],
      "metadata": {
        "colab": {
          "base_uri": "https://localhost:8080/",
          "height": 448
        },
        "id": "vnifk-ADZjOa",
        "outputId": "25ff8893-ab4a-44ce-abe8-b5be8a5bfa6b"
      },
      "execution_count": 108,
      "outputs": [
        {
          "output_type": "execute_result",
          "data": {
            "text/plain": [
              "9"
            ]
          },
          "metadata": {},
          "execution_count": 108
        },
        {
          "output_type": "display_data",
          "data": {
            "text/plain": [
              "<Figure size 640x480 with 1 Axes>"
            ],
            "image/png": "[encoded data removed]"
          },
          "metadata": {}
        }
      ]
    },
    {
      "cell_type": "code",
      "source": [
        "#visualizing the first 10 images in the dataset\n",
        "\n",
        "\n",
        "for i in range(10):\n",
        "\n",
        "    #subplot\n",
        "\n",
        "    plt.subplot(5, 5, i+1)\n",
        "\n",
        "    # plotting pixel data\n",
        "\n",
        "    plt.imshow(X_train[i], cmap=plt.get_cmap('Accent'))"
      ],
      "metadata": {
        "colab": {
          "base_uri": "https://localhost:8080/",
          "height": 205
        },
        "id": "QBqOFvMGhRva",
        "outputId": "03a277c5-d1ef-4ea5-f852-eb19d7a8acc6"
      },
      "execution_count": 109,
      "outputs": [
        {
          "output_type": "display_data",
          "data": {
            "text/plain": [
              "<Figure size 640x480 with 10 Axes>"
            ],
            "image/png": "[encoded data removed]"
          },
          "metadata": {}
        }
      ]
    },
    {
      "cell_type": "code",
      "source": [
        "#1th  snapshot for test\n",
        "plt.imshow(X_test[0])\n",
        "#digit is \n",
        "y_test[0]"
      ],
      "metadata": {
        "colab": {
          "base_uri": "https://localhost:8080/",
          "height": 448
        },
        "id": "Rh2Zm2OSbCkF",
        "outputId": "7a4a0bff-b9bb-4ca3-e91b-730692e9a7fc"
      },
      "execution_count": 110,
      "outputs": [
        {
          "output_type": "execute_result",
          "data": {
            "text/plain": [
              "9"
            ]
          },
          "metadata": {},
          "execution_count": 110
        },
        {
          "output_type": "display_data",
          "data": {
            "text/plain": [
              "<Figure size 640x480 with 1 Axes>"
            ],
            "image/png": "[encoded data removed]"
          },
          "metadata": {}
        }
      ]
    },
    {
      "cell_type": "code",
      "source": [
        "#Normalizing data \n",
        "X_train = X_train / 255\n",
        "X_test = X_test/255"
      ],
      "metadata": {
        "id": "T7f07p2tbSr6"
      },
      "execution_count": 111,
      "outputs": []
    },
    {
      "cell_type": "code",
      "source": [
        "#As we know our data is 2D(28*28) array so convertning it into 1D array we have to flatten\n",
        "#to feed them into the Artificial Neural network model,\n",
        "oneD = 28*28\n",
        "X_train_flattened = X_train.reshape(len(X_train) , oneD)\n",
        "X_test_flattened = X_test.reshape(len(X_test)  , oneD)\n",
        "print(X_train_flattened.shape)\n",
        "print(X_test_flattened.shape)"
      ],
      "metadata": {
        "colab": {
          "base_uri": "https://localhost:8080/"
        },
        "id": "RlMTVfhIdb99",
        "outputId": "4dbdfd81-6941-465f-baf1-9add193859f7"
      },
      "execution_count": 112,
      "outputs": [
        {
          "output_type": "stream",
          "name": "stdout",
          "text": [
            "(60000, 784)\n",
            "(10000, 784)\n"
          ]
        }
      ]
    },
    {
      "cell_type": "code",
      "source": [
        "class_mod = Sequential()"
      ],
      "metadata": {
        "id": "4MJhE_tEkK6w"
      },
      "execution_count": 113,
      "outputs": []
    },
    {
      "cell_type": "code",
      "source": [
        "class_mod.add(Flatten(input_shape = (28,28)))\n",
        "# class_mod.add(Dense(128,activation='relu'))  #nodesize = 128 \n",
        "class_mod.add(Dense(10,activation = 'softmax')) #10 is 0 to 9 number classification"
      ],
      "metadata": {
        "id": "8oEHmdeBecOk"
      },
      "execution_count": 114,
      "outputs": []
    },
    {
      "cell_type": "markdown",
      "source": [
        "we are using the softmax activation function as we have a multi-class classification problem and have more than two class labels."
      ],
      "metadata": {
        "id": "YaFCALewi0h3"
      }
    },
    {
      "cell_type": "code",
      "source": [
        "class_mod.summary()"
      ],
      "metadata": {
        "colab": {
          "base_uri": "https://localhost:8080/"
        },
        "id": "uY35020IjsM-",
        "outputId": "e5d72fd2-9287-4892-8c01-ae02a2217706"
      },
      "execution_count": 115,
      "outputs": [
        {
          "output_type": "stream",
          "name": "stdout",
          "text": [
            "Model: \"sequential_3\"\n",
            "_________________________________________________________________\n",
            " Layer (type)                Output Shape              Param #   \n",
            "=================================================================\n",
            " flatten_3 (Flatten)         (None, 784)               0         \n",
            "                                                                 \n",
            " dense_6 (Dense)             (None, 10)                7850      \n",
            "                                                                 \n",
            "=================================================================\n",
            "Total params: 7,850\n",
            "Trainable params: 7,850\n",
            "Non-trainable params: 0\n",
            "_________________________________________________________________\n"
          ]
        }
      ]
    },
    {
      "cell_type": "code",
      "source": [
        "from sklearn.metrics import f1_score"
      ],
      "metadata": {
        "id": "xs7UbMuUnVaM"
      },
      "execution_count": 116,
      "outputs": []
    },
    {
      "cell_type": "code",
      "source": [
        "class_mod.compile(optimizer='Adam' , loss = 'sparse_categorical_crossentropy', metrics=['accuracy'])"
      ],
      "metadata": {
        "id": "e0W9e0hrjzci"
      },
      "execution_count": 117,
      "outputs": []
    },
    {
      "cell_type": "markdown",
      "source": [
        "For the optimizer, we have used Adam for updating the weights, to achieve minimum losses in the model and Accuracy as a metric."
      ],
      "metadata": {
        "id": "N-C1ZFWhjNC7"
      }
    },
    {
      "cell_type": "markdown",
      "source": [
        "we are using sparse_categorical_crossentropy as there are more than two labels in our dataset.\n",
        "\n"
      ],
      "metadata": {
        "id": "DrI8n7v6jGa1"
      }
    },
    {
      "cell_type": "code",
      "source": [
        "result = class_mod.fit(X_train,y_train,batch_size=64,epochs=5,verbose=1, validation_data=(X_test,y_test) )\n",
        "# result = class_mod.fit(X_train,y_train,batch_size=64,epochs=5,verbose=1,validation_split=0.2)"
      ],
      "metadata": {
        "colab": {
          "base_uri": "https://localhost:8080/"
        },
        "id": "ZhlR14oqmfje",
        "outputId": "7d652273-ccf3-4420-e0be-f92b1407038b"
      },
      "execution_count": 118,
      "outputs": [
        {
          "output_type": "stream",
          "name": "stdout",
          "text": [
            "Epoch 1/5\n",
            "938/938 [==============================] - 2s 2ms/step - loss: 0.6559 - accuracy: 0.7811 - val_loss: 0.5308 - val_accuracy: 0.8206\n",
            "Epoch 2/5\n",
            "938/938 [==============================] - 2s 2ms/step - loss: 0.4812 - accuracy: 0.8359 - val_loss: 0.4877 - val_accuracy: 0.8320\n",
            "Epoch 3/5\n",
            "938/938 [==============================] - 2s 2ms/step - loss: 0.4501 - accuracy: 0.8462 - val_loss: 0.4703 - val_accuracy: 0.8388\n",
            "Epoch 4/5\n",
            "938/938 [==============================] - 1s 2ms/step - loss: 0.4322 - accuracy: 0.8511 - val_loss: 0.4631 - val_accuracy: 0.8368\n",
            "Epoch 5/5\n",
            "938/938 [==============================] - 1s 1ms/step - loss: 0.4219 - accuracy: 0.8553 - val_loss: 0.4634 - val_accuracy: 0.8408\n"
          ]
        }
      ]
    },
    {
      "cell_type": "markdown",
      "source": [
        "one process of forwarding and backpropagation of the training dataset is known as one epoch."
      ],
      "metadata": {
        "id": "bqA_aU5ajf1R"
      }
    },
    {
      "cell_type": "markdown",
      "source": [
        "**we can see that the training accuracy is 85.53% and the loss is 0.4219. Let’s \n",
        "\n",
        "\n",
        "evaluate the model on test data as well.**"
      ],
      "metadata": {
        "id": "sm96yVbdj1rV"
      }
    },
    {
      "cell_type": "code",
      "source": [
        "class_mod.evaluate(X_test , y_test)"
      ],
      "metadata": {
        "colab": {
          "base_uri": "https://localhost:8080/"
        },
        "id": "ibKbdRNyQ1Df",
        "outputId": "ef3b7012-1b42-4fea-9984-cdfff8b51bdf"
      },
      "execution_count": 119,
      "outputs": [
        {
          "output_type": "stream",
          "name": "stdout",
          "text": [
            "313/313 [==============================] - 1s 2ms/step - loss: 0.4634 - accuracy: 0.8408\n"
          ]
        },
        {
          "output_type": "execute_result",
          "data": {
            "text/plain": [
              "[0.46340882778167725, 0.8407999873161316]"
            ]
          },
          "metadata": {},
          "execution_count": 119
        }
      ]
    },
    {
      "cell_type": "markdown",
      "source": [
        "**For the test accuracy, we got 84.08% and the loss is 0.4634**"
      ],
      "metadata": {
        "id": "Io9j-ADBkJyK"
      }
    },
    {
      "cell_type": "code",
      "source": [
        "y_pred = class_mod.predict(X_test)\n",
        "y_pred[0]"
      ],
      "metadata": {
        "colab": {
          "base_uri": "https://localhost:8080/"
        },
        "id": "yP3bGwqLRBtS",
        "outputId": "072cce7b-9bd8-478b-d7c7-628d9cce05e9"
      },
      "execution_count": 120,
      "outputs": [
        {
          "output_type": "stream",
          "name": "stdout",
          "text": [
            "313/313 [==============================] - 1s 2ms/step\n"
          ]
        },
        {
          "output_type": "execute_result",
          "data": {
            "text/plain": [
              "array([1.6395965e-06, 9.2275781e-07, 2.9504141e-05, 1.0839351e-05,\n",
              "       4.7659905e-05, 2.0515403e-01, 4.4915949e-05, 1.8247108e-01,\n",
              "       1.0156863e-02, 6.0208255e-01], dtype=float32)"
            ]
          },
          "metadata": {},
          "execution_count": 120
        }
      ]
    },
    {
      "cell_type": "markdown",
      "source": [
        "10 scores"
      ],
      "metadata": {
        "id": "t54252ZxRTds"
      }
    },
    {
      "cell_type": "code",
      "source": [
        "y_test"
      ],
      "metadata": {
        "colab": {
          "base_uri": "https://localhost:8080/"
        },
        "id": "rlm4M7WkW7bN",
        "outputId": "46ba7325-df72-4e04-a2a3-91a8945ea13a"
      },
      "execution_count": 121,
      "outputs": [
        {
          "output_type": "execute_result",
          "data": {
            "text/plain": [
              "array([9, 2, 1, ..., 8, 1, 5], dtype=uint8)"
            ]
          },
          "metadata": {},
          "execution_count": 121
        }
      ]
    },
    {
      "cell_type": "code",
      "source": [
        "np.argmax(y_pred[0])"
      ],
      "metadata": {
        "colab": {
          "base_uri": "https://localhost:8080/"
        },
        "id": "Qa4rXA3mRQpR",
        "outputId": "aac3ce41-7670-4533-c256-4d2b3205fbff"
      },
      "execution_count": 122,
      "outputs": [
        {
          "output_type": "execute_result",
          "data": {
            "text/plain": [
              "9"
            ]
          },
          "metadata": {},
          "execution_count": 122
        }
      ]
    },
    {
      "cell_type": "code",
      "source": [
        "y_predicted_labels = [np.argmax(i) for i in y_pred]\n",
        "# y_predicted_labels[:5]"
      ],
      "metadata": {
        "id": "xU3xvQFBZe7Q"
      },
      "execution_count": 123,
      "outputs": []
    },
    {
      "cell_type": "code",
      "source": [
        "con_mat = tf.math.confusion_matrix(labels=y_test , predictions = y_predicted_labels)"
      ],
      "metadata": {
        "id": "oFVNye5vRavp"
      },
      "execution_count": 124,
      "outputs": []
    },
    {
      "cell_type": "code",
      "source": [
        "import seaborn as sn\n",
        "sn.heatmap(con_mat, annot=True , fmt='d')\n",
        "plt.xlabel('predicted')\n",
        "plt.ylabel('actual')"
      ],
      "metadata": {
        "colab": {
          "base_uri": "https://localhost:8080/",
          "height": 467
        },
        "id": "dnww847RkBM_",
        "outputId": "e76c0c9e-0d21-47b8-e8be-4c222134a94d"
      },
      "execution_count": 125,
      "outputs": [
        {
          "output_type": "execute_result",
          "data": {
            "text/plain": [
              "Text(50.722222222222214, 0.5, 'actual')"
            ]
          },
          "metadata": {},
          "execution_count": 125
        },
        {
          "output_type": "display_data",
          "data": {
            "text/plain": [
              "<Figure size 640x480 with 2 Axes>"
            ],
            "image/png": "[encoded data removed]"
          },
          "metadata": {}
        }
      ]
    },
    {
      "cell_type": "code",
      "source": [
        "from sklearn.metrics import confusion_matrix, f1_score\n",
        "\n",
        "\n",
        "# Compute the F1 score for each class\n",
        "f1_scores = f1_score(y_test, y_predicted_labels, labels=None, average=None, sample_weight=None, zero_division='warn')\n",
        "\n",
        "# Compute the macro-average F1 score\n",
        "macro_average_f1 = f1_score(y_test, y_predicted_labels, labels=None, average='macro', sample_weight=None, zero_division='warn')\n",
        "\n",
        "print(\"F1 Score for each class:\", f1_scores)\n",
        "print(\"Macro-average F1 Score:\", macro_average_f1)\n",
        "\n"
      ],
      "metadata": {
        "colab": {
          "base_uri": "https://localhost:8080/"
        },
        "id": "3FXYIPvKkhhn",
        "outputId": "422a20ef-9a1f-45ce-9aff-fdbbfa6d9675"
      },
      "execution_count": 126,
      "outputs": [
        {
          "output_type": "stream",
          "name": "stdout",
          "text": [
            "F1 Score for each class: [0.81409947 0.96548223 0.72478459 0.84729536 0.73589165 0.93326643\n",
            " 0.54500919 0.92300242 0.93783651 0.93737166]\n",
            "Macro-average F1 Score: 0.8364039516378305\n"
          ]
        }
      ]
    },
    {
      "cell_type": "markdown",
      "source": [
        "**Macro-avg F1 score : 0.83 for model 1**"
      ],
      "metadata": {
        "id": "SOeGkXqAk9UD"
      }
    },
    {
      "cell_type": "markdown",
      "source": [
        "#TRAINING OTHER MODEL WHICH INCLUDES HIDDEN LAYER USING ReLU ACTIVATION FUNCTION  "
      ],
      "metadata": {
        "id": "F1el3yo8nI-l"
      }
    },
    {
      "cell_type": "code",
      "source": [
        "model_2 = Sequential()"
      ],
      "metadata": {
        "id": "T2yRKv2pnYmu"
      },
      "execution_count": 127,
      "outputs": []
    },
    {
      "cell_type": "code",
      "source": [
        "model_2.add(Flatten(input_shape = (28,28)))\n",
        "model_2.add(Dense(256,activation='relu'))  # First hidden layer \n",
        "model_2.add(Dense(128,activation='relu'))  # Second hidden layer\n",
        "model_2.add(Dense(64,activation='relu'))  # Third hidden layer\n",
        "model_2.add(Dense(10,activation = 'softmax')) #Output layer"
      ],
      "metadata": {
        "id": "EjTIfwkOnfDP"
      },
      "execution_count": 128,
      "outputs": []
    },
    {
      "cell_type": "code",
      "source": [
        "model_2.compile(optimizer='Adam' , loss = 'sparse_categorical_crossentropy', metrics=['accuracy'])"
      ],
      "metadata": {
        "id": "oQfz1CakoZtq"
      },
      "execution_count": 129,
      "outputs": []
    },
    {
      "cell_type": "code",
      "source": [
        "result = model_2.fit(X_train,y_train,batch_size=64,epochs=10,verbose=1, validation_data=(X_test,y_test))\n",
        "\n",
        "  #Epoches= 10 changes"
      ],
      "metadata": {
        "colab": {
          "base_uri": "https://localhost:8080/"
        },
        "id": "THR8-Xl9pB64",
        "outputId": "2e190a11-7a9a-493b-d460-9a45aed2b27e"
      },
      "execution_count": 130,
      "outputs": [
        {
          "output_type": "stream",
          "name": "stdout",
          "text": [
            "Epoch 1/10\n",
            "938/938 [==============================] - 10s 8ms/step - loss: 0.4973 - accuracy: 0.8206 - val_loss: 0.3994 - val_accuracy: 0.8558\n",
            "Epoch 2/10\n",
            "938/938 [==============================] - 8s 8ms/step - loss: 0.3615 - accuracy: 0.8669 - val_loss: 0.3753 - val_accuracy: 0.8664\n",
            "Epoch 3/10\n",
            "938/938 [==============================] - 6s 7ms/step - loss: 0.3269 - accuracy: 0.8800 - val_loss: 0.3631 - val_accuracy: 0.8649\n",
            "Epoch 4/10\n",
            "938/938 [==============================] - 5s 5ms/step - loss: 0.3051 - accuracy: 0.8866 - val_loss: 0.3365 - val_accuracy: 0.8778\n",
            "Epoch 5/10\n",
            "938/938 [==============================] - 4s 4ms/step - loss: 0.2842 - accuracy: 0.8947 - val_loss: 0.3466 - val_accuracy: 0.8789\n",
            "Epoch 6/10\n",
            "938/938 [==============================] - 4s 4ms/step - loss: 0.2706 - accuracy: 0.8985 - val_loss: 0.3294 - val_accuracy: 0.8768\n",
            "Epoch 7/10\n",
            "938/938 [==============================] - 5s 5ms/step - loss: 0.2577 - accuracy: 0.9021 - val_loss: 0.3241 - val_accuracy: 0.8847\n",
            "Epoch 8/10\n",
            "938/938 [==============================] - 4s 4ms/step - loss: 0.2468 - accuracy: 0.9073 - val_loss: 0.3348 - val_accuracy: 0.8784\n",
            "Epoch 9/10\n",
            "938/938 [==============================] - 5s 5ms/step - loss: 0.2371 - accuracy: 0.9095 - val_loss: 0.3191 - val_accuracy: 0.8862\n",
            "Epoch 10/10\n",
            "938/938 [==============================] - 6s 7ms/step - loss: 0.2275 - accuracy: 0.9144 - val_loss: 0.3547 - val_accuracy: 0.8784\n"
          ]
        }
      ]
    },
    {
      "cell_type": "markdown",
      "source": [
        "**We can see that the training accuracy is 90.45% and the loss is 0.31. Let’s evaluate the model on test data as well.**"
      ],
      "metadata": {
        "id": "4WZJOG4FkedM"
      }
    },
    {
      "cell_type": "code",
      "source": [
        "model_2.evaluate(X_test , y_test)"
      ],
      "metadata": {
        "colab": {
          "base_uri": "https://localhost:8080/"
        },
        "id": "PuyJau6Qnxr1",
        "outputId": "b9237b9d-2e91-4ac3-8328-572e88d4df6b"
      },
      "execution_count": 131,
      "outputs": [
        {
          "output_type": "stream",
          "name": "stdout",
          "text": [
            "313/313 [==============================] - 1s 3ms/step - loss: 0.3547 - accuracy: 0.8784\n"
          ]
        },
        {
          "output_type": "execute_result",
          "data": {
            "text/plain": [
              "[0.3546542227268219, 0.8784000277519226]"
            ]
          },
          "metadata": {},
          "execution_count": 131
        }
      ]
    },
    {
      "cell_type": "markdown",
      "source": [
        "**For the test accuracy, we got 87.92% and the loss is 0.3419**"
      ],
      "metadata": {
        "id": "NUjeNo88koYT"
      }
    },
    {
      "cell_type": "code",
      "source": [
        "y_pred = model_2.predict(X_test)\n",
        "y_pred[0]"
      ],
      "metadata": {
        "colab": {
          "base_uri": "https://localhost:8080/"
        },
        "id": "w6ubez35n7Mb",
        "outputId": "bd6824cb-8787-43d9-9751-2ed6fe010b41"
      },
      "execution_count": 132,
      "outputs": [
        {
          "output_type": "stream",
          "name": "stdout",
          "text": [
            "313/313 [==============================] - 1s 3ms/step\n"
          ]
        },
        {
          "output_type": "execute_result",
          "data": {
            "text/plain": [
              "array([5.0016029e-06, 9.0369440e-07, 1.1648231e-07, 7.4440621e-08,\n",
              "       5.4039049e-07, 3.7595596e-02, 1.9564162e-07, 2.8750025e-02,\n",
              "       4.7325780e-06, 9.3364263e-01], dtype=float32)"
            ]
          },
          "metadata": {},
          "execution_count": 132
        }
      ]
    },
    {
      "cell_type": "code",
      "source": [
        "y_predicted_labels = [np.argmax(i) for i in y_pred]\n",
        "y_predicted_labels[0]"
      ],
      "metadata": {
        "colab": {
          "base_uri": "https://localhost:8080/"
        },
        "id": "hu7Pl7shoIOV",
        "outputId": "8bc59aa9-3970-4982-fa25-0bee550afccf"
      },
      "execution_count": 133,
      "outputs": [
        {
          "output_type": "execute_result",
          "data": {
            "text/plain": [
              "9"
            ]
          },
          "metadata": {},
          "execution_count": 133
        }
      ]
    },
    {
      "cell_type": "code",
      "source": [
        "f1_scores = f1_score(y_test, y_predicted_labels, labels=None, average=None, sample_weight=None, zero_division='warn')\n",
        "\n",
        "# Compute the macro-average F1 score\n",
        "macro_average_f1 = f1_score(y_test, y_predicted_labels, labels=None, average='macro', sample_weight=None, zero_division='warn')\n",
        "\n",
        "print(\"F1 Score for each class:\", f1_scores)\n",
        "print(\"Macro-average F1 Score:\", macro_average_f1)"
      ],
      "metadata": {
        "colab": {
          "base_uri": "https://localhost:8080/"
        },
        "id": "z3V6YqSBn1d1",
        "outputId": "32c89ed7-e78a-4338-bdcd-a5117c4c9e55"
      },
      "execution_count": 134,
      "outputs": [
        {
          "output_type": "stream",
          "name": "stdout",
          "text": [
            "F1 Score for each class: [0.81332083 0.98238551 0.80255403 0.87213115 0.80838615 0.96893788\n",
            " 0.69605331 0.93365155 0.97259591 0.93681462]\n",
            "Macro-average F1 Score: 0.8786830928216462\n"
          ]
        }
      ]
    },
    {
      "cell_type": "markdown",
      "source": [
        "**Macro-avg F1 score : 0.8788 for model 2**\n",
        "\n",
        "**Getting better result**"
      ],
      "metadata": {
        "id": "iBenZs67lIpm"
      }
    },
    {
      "cell_type": "markdown",
      "source": [
        "We have built the basic ANN model and got the training and testing accuracy as shown in the above figures. We can see the difference in accuracies and losses of the training and test sets. "
      ],
      "metadata": {
        "id": "N4pvP6aSsUJ9"
      }
    },
    {
      "cell_type": "markdown",
      "source": [
        "#Hyperparameter Tuning in Neural Networks"
      ],
      "metadata": {
        "id": "-FnMO9ShlzHO"
      }
    },
    {
      "cell_type": "markdown",
      "source": [
        "prerequisites to use Keras tuner\n",
        "\n",
        "Tensorflow 2.0+ (I had Tensorflow 2.1.0 in my system but still it didn’t work so had to upgrade it to 2.6.0)"
      ],
      "metadata": {
        "id": "KBZDekEwuq2J"
      }
    },
    {
      "cell_type": "code",
      "source": [
        "print(tf.__version__)"
      ],
      "metadata": {
        "id": "8IWLYcrDpoQe",
        "colab": {
          "base_uri": "https://localhost:8080/"
        },
        "outputId": "26bbd611-46d8-4ced-d2b0-9da945577818"
      },
      "execution_count": 135,
      "outputs": [
        {
          "output_type": "stream",
          "name": "stdout",
          "text": [
            "2.12.0\n"
          ]
        }
      ]
    },
    {
      "cell_type": "code",
      "source": [
        "def model_3(hyper_para):          \n",
        "    model=Sequential()\n",
        "    model.add(Flatten(input_shape=(28,28)))\n",
        "    \n",
        "    \n",
        "    model.add(Dense(units=hyper_para.Int('num_of_neurons',min_value=32,max_value=512,step=32),\n",
        "                                    activation='relu'))\n",
        "    #output layer\n",
        "    model.add(Dense(10,activation='softmax'))\n",
        "    \n",
        "    model.compile(optimizer=keras.optimizers.Adam(hyper_para.Choice('learning_rate',values=[1e-2, 1e-3, 1e-4])),loss='sparse_categorical_crossentropy',metrics=['accuracy'])\n",
        "    return model"
      ],
      "metadata": {
        "id": "MnkSHX2TvDNW"
      },
      "execution_count": 136,
      "outputs": []
    },
    {
      "cell_type": "code",
      "source": [
        "#feeding the model and parameters to Random Search\n",
        "tunning =RandomSearch(model_3,objective='val_accuracy',max_trials=5,executions_per_trial=3,directory='tuner1',project_name='Clothing')"
      ],
      "metadata": {
        "id": "lOdrmAkWUxxj"
      },
      "execution_count": 137,
      "outputs": []
    },
    {
      "cell_type": "code",
      "source": [
        "tunning.search_space_summary()"
      ],
      "metadata": {
        "colab": {
          "base_uri": "https://localhost:8080/"
        },
        "id": "1W9niF9VWBTz",
        "outputId": "dd86c2ff-147c-4e1e-a919-d98bc5b1c79b"
      },
      "execution_count": 138,
      "outputs": [
        {
          "output_type": "stream",
          "name": "stdout",
          "text": [
            "Search space summary\n",
            "Default search space size: 2\n",
            "num_of_neurons (Int)\n",
            "{'default': None, 'conditions': [], 'min_value': 32, 'max_value': 512, 'step': 32, 'sampling': 'linear'}\n",
            "learning_rate (Choice)\n",
            "{'default': 0.01, 'conditions': [], 'values': [0.01, 0.001, 0.0001], 'ordered': True}\n"
          ]
        }
      ]
    },
    {
      "cell_type": "code",
      "source": [
        "tunning.search(X_train,y_train,epochs=10,validation_data=(X_test,y_test))"
      ],
      "metadata": {
        "id": "hNWuVminWbv5"
      },
      "execution_count": 139,
      "outputs": []
    },
    {
      "cell_type": "code",
      "source": [
        "tunning.results_summary()"
      ],
      "metadata": {
        "colab": {
          "base_uri": "https://localhost:8080/"
        },
        "id": "ILe7cdiGgC33",
        "outputId": "d58fcdf7-3f61-4436-fb33-a8bfb7c74595"
      },
      "execution_count": 140,
      "outputs": [
        {
          "output_type": "stream",
          "name": "stdout",
          "text": [
            "Results summary\n",
            "Results in tuner1/Clothing\n",
            "Showing 10 best trials\n",
            "Objective(name=\"val_accuracy\", direction=\"max\")\n",
            "\n",
            "Trial 3 summary\n",
            "Hyperparameters:\n",
            "num_of_neurons: 320\n",
            "learning_rate: 0.001\n",
            "Score: 0.8865999976793925\n",
            "\n",
            "Trial 1 summary\n",
            "Hyperparameters:\n",
            "num_of_neurons: 448\n",
            "learning_rate: 0.0001\n",
            "Score: 0.878766675790151\n",
            "\n",
            "Trial 2 summary\n",
            "Hyperparameters:\n",
            "num_of_neurons: 288\n",
            "learning_rate: 0.0001\n",
            "Score: 0.872866670290629\n",
            "\n",
            "Trial 0 summary\n",
            "Hyperparameters:\n",
            "num_of_neurons: 192\n",
            "learning_rate: 0.01\n",
            "Score: 0.8536333441734314\n",
            "\n",
            "Trial 4 summary\n",
            "Hyperparameters:\n",
            "num_of_neurons: 160\n",
            "learning_rate: 0.01\n",
            "Score: 0.8528333504994711\n"
          ]
        }
      ]
    },
    {
      "cell_type": "markdown",
      "source": [
        "#RESULTS "
      ],
      "metadata": {
        "id": "ji6jowG6bmjb"
      }
    },
    {
      "cell_type": "markdown",
      "source": [
        "#IN MODEL 1 \n",
        "TEST ACCURACY IS - 83.64%\n",
        "\n",
        "#IN MODEL 2 (USING HIDDEN LAYER) \n",
        "TEST ACCURACY IS - 87.92%\n",
        "\n",
        "#IN MODEL 3 (AFTER TUNNING HYPER PARAMETERS) \n",
        "TEST ACCURACY IS - 88.85%\n",
        "\n",
        "number_of_neurons = 320 \n",
        "\n",
        "learning_rate = 0.001\n"
      ],
      "metadata": {
        "id": "J0x7YYeAbohJ"
      }
    },
    {
      "cell_type": "code",
      "source": [
        "model_3_apply = Sequential()"
      ],
      "metadata": {
        "id": "LMYtVS7Lbk75"
      },
      "execution_count": 141,
      "outputs": []
    },
    {
      "cell_type": "code",
      "source": [
        "model_3_apply.add(Flatten(input_shape = (28,28)))\n",
        "model_3_apply.add(Dense(320,activation='relu'))  \n",
        "model_3_apply.add(Dense(10,activation = 'softmax')) "
      ],
      "metadata": {
        "id": "H_z0ZdMfe9O6"
      },
      "execution_count": 142,
      "outputs": []
    },
    {
      "cell_type": "code",
      "source": [
        "model_3_apply.compile(optimizer='Adam' , loss = 'sparse_categorical_crossentropy', metrics=['accuracy'])"
      ],
      "metadata": {
        "id": "OEIwQgjGfSmn"
      },
      "execution_count": 143,
      "outputs": []
    },
    {
      "cell_type": "code",
      "source": [
        "result = model_3_apply.fit(X_train,y_train,batch_size=64,epochs=5,verbose=1, validation_data=(X_test,y_test))"
      ],
      "metadata": {
        "colab": {
          "base_uri": "https://localhost:8080/"
        },
        "id": "zegVJJbdfhuh",
        "outputId": "61bdbea6-faed-4fa3-b821-89ce16cbee2a"
      },
      "execution_count": 144,
      "outputs": [
        {
          "output_type": "stream",
          "name": "stdout",
          "text": [
            "Epoch 1/5\n",
            "938/938 [==============================] - 6s 5ms/step - loss: 0.4940 - accuracy: 0.8280 - val_loss: 0.4223 - val_accuracy: 0.8484\n",
            "Epoch 2/5\n",
            "938/938 [==============================] - 4s 4ms/step - loss: 0.3681 - accuracy: 0.8670 - val_loss: 0.3925 - val_accuracy: 0.8605\n",
            "Epoch 3/5\n",
            "938/938 [==============================] - 6s 6ms/step - loss: 0.3308 - accuracy: 0.8793 - val_loss: 0.3658 - val_accuracy: 0.8696\n",
            "Epoch 4/5\n",
            "938/938 [==============================] - 4s 4ms/step - loss: 0.3040 - accuracy: 0.8876 - val_loss: 0.3617 - val_accuracy: 0.8706\n",
            "Epoch 5/5\n",
            "938/938 [==============================] - 4s 4ms/step - loss: 0.2856 - accuracy: 0.8946 - val_loss: 0.3324 - val_accuracy: 0.8805\n"
          ]
        }
      ]
    },
    {
      "cell_type": "code",
      "source": [
        "model_3_apply.evaluate(X_test , y_test)"
      ],
      "metadata": {
        "colab": {
          "base_uri": "https://localhost:8080/"
        },
        "id": "92Y19e7gfmVF",
        "outputId": "8e8ece84-4278-4b9c-d069-c85fd8516eba"
      },
      "execution_count": 145,
      "outputs": [
        {
          "output_type": "stream",
          "name": "stdout",
          "text": [
            "313/313 [==============================] - 1s 2ms/step - loss: 0.3324 - accuracy: 0.8805\n"
          ]
        },
        {
          "output_type": "execute_result",
          "data": {
            "text/plain": [
              "[0.3323744535446167, 0.8805000185966492]"
            ]
          },
          "metadata": {},
          "execution_count": 145
        }
      ]
    },
    {
      "cell_type": "code",
      "source": [
        "y_pred = model_3_apply.predict(X_test)\n",
        "y_pred[0]"
      ],
      "metadata": {
        "colab": {
          "base_uri": "https://localhost:8080/"
        },
        "id": "tK0fSwG4gvwB",
        "outputId": "b2397b71-7281-422c-99ca-bab2457538a7"
      },
      "execution_count": 146,
      "outputs": [
        {
          "output_type": "stream",
          "name": "stdout",
          "text": [
            "313/313 [==============================] - 1s 2ms/step\n"
          ]
        },
        {
          "output_type": "execute_result",
          "data": {
            "text/plain": [
              "array([5.6742268e-05, 1.1553392e-07, 4.8426227e-07, 2.3452303e-07,\n",
              "       5.1978068e-06, 1.2609430e-02, 7.4432115e-05, 4.4500869e-02,\n",
              "       2.5010711e-04, 9.4250244e-01], dtype=float32)"
            ]
          },
          "metadata": {},
          "execution_count": 146
        }
      ]
    },
    {
      "cell_type": "code",
      "source": [
        "y_predicted_labels = [np.argmax(i) for i in y_pred]\n",
        "y_predicted_labels[0]"
      ],
      "metadata": {
        "colab": {
          "base_uri": "https://localhost:8080/"
        },
        "id": "_rMyd5KhftYE",
        "outputId": "9504369f-3709-4c0e-fb10-d5b53f056c84"
      },
      "execution_count": 147,
      "outputs": [
        {
          "output_type": "execute_result",
          "data": {
            "text/plain": [
              "9"
            ]
          },
          "metadata": {},
          "execution_count": 147
        }
      ]
    },
    {
      "cell_type": "code",
      "source": [
        "f1_scores = f1_score(y_test, y_predicted_labels, labels=None, average=None, sample_weight=None, zero_division='warn')\n",
        "\n",
        "# Compute the macro-average F1 score\n",
        "macro_average_f1 = f1_score(y_test, y_predicted_labels, labels=None, average='macro', sample_weight=None, zero_division='warn')\n",
        "\n",
        "print(\"F1 Score for each class:\", f1_scores)\n",
        "print(\"Macro-average F1 Score:\", macro_average_f1)"
      ],
      "metadata": {
        "colab": {
          "base_uri": "https://localhost:8080/"
        },
        "id": "oCDp1Sq9f78f",
        "outputId": "6a19906e-9018-470f-8d7e-56549d744b3f"
      },
      "execution_count": 148,
      "outputs": [
        {
          "output_type": "stream",
          "name": "stdout",
          "text": [
            "F1 Score for each class: [0.83479106 0.98236776 0.78903573 0.87799791 0.79198473 0.96819788\n",
            " 0.68432203 0.94513099 0.97111554 0.957     ]\n",
            "Macro-average F1 Score: 0.8801943641732424\n"
          ]
        }
      ]
    },
    {
      "cell_type": "markdown",
      "source": [
        "**We observe that our Macro F1 score is higher after tunning the parameter**"
      ],
      "metadata": {
        "id": "O9BR8zcJi9e5"
      }
    }
  ]
}